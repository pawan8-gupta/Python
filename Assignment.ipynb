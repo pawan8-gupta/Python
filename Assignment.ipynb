{
 "cells": [
  {
   "cell_type": "markdown",
   "id": "31fa48c6-4f29-4116-9e4a-e59a7a7367a5",
   "metadata": {},
   "source": [
    "Q1.Python program to sort the given list of tuple based on integer value"
   ]
  },
  {
   "cell_type": "code",
   "execution_count": 21,
   "id": "9302be30-0911-4999-817d-68eba21f2cfa",
   "metadata": {},
   "outputs": [],
   "source": [
    "l=[('Sachin Tendulkar',34357),('Ricky Ponting',27483),('Jack Kallis',25534),('Virat kohli',24936)]"
   ]
  },
  {
   "cell_type": "code",
   "execution_count": 22,
   "id": "6b364e0b-d209-4f69-968d-78f0872c837c",
   "metadata": {},
   "outputs": [],
   "source": [
    "sort_l = sorted(l,key = lambda x:x[1])"
   ]
  },
  {
   "cell_type": "code",
   "execution_count": 23,
   "id": "ea1280f6-e536-4ed5-8f01-b373dc07588c",
   "metadata": {},
   "outputs": [
    {
     "data": {
      "text/plain": [
       "[('Virat kohli', 24936),\n",
       " ('Jack Kallis', 25534),\n",
       " ('Ricky Ponting', 27483),\n",
       " ('Sachin Tendulkar', 34357)]"
      ]
     },
     "execution_count": 23,
     "metadata": {},
     "output_type": "execute_result"
    }
   ],
   "source": [
    "sort_l"
   ]
  },
  {
   "cell_type": "markdown",
   "id": "5418fb2c-4979-4081-867a-1192cf55ceda",
   "metadata": {},
   "source": [
    "Q2. Write a Python Program to find the squares of all the numbers in the given list of integers using\n",
    "lambda and map functions.\n",
    "[1, 2, 3, 4, 5, 6, 7, 8, 9, 10]"
   ]
  },
  {
   "cell_type": "code",
   "execution_count": 24,
   "id": "a18f50a3-5d3b-47ad-a1a9-9b51dd05e553",
   "metadata": {},
   "outputs": [],
   "source": [
    "l=[1,2,3,4,5,6,7,8,9,10]"
   ]
  },
  {
   "cell_type": "code",
   "execution_count": 27,
   "id": "c153abfd-5669-42b1-8f58-4f72762b83b6",
   "metadata": {},
   "outputs": [],
   "source": [
    "def srq(x):\n",
    "    return x*x"
   ]
  },
  {
   "cell_type": "code",
   "execution_count": 28,
   "id": "c11671c0-b161-43fb-8e3e-3368f2e8f0b9",
   "metadata": {},
   "outputs": [
    {
     "data": {
      "text/plain": [
       "[1, 4, 9, 16, 25, 36, 49, 64, 81, 100]"
      ]
     },
     "execution_count": 28,
     "metadata": {},
     "output_type": "execute_result"
    }
   ],
   "source": [
    "list(map(sqr,l))"
   ]
  },
  {
   "cell_type": "markdown",
   "id": "9dd2944a-2d56-4ef3-a71c-9661013aaa5f",
   "metadata": {},
   "source": [
    "Q3.Write a python program to convert the given list of integers into a tuple of strings. Use map and\n",
    "lambda functions.\n",
    "Given String: [1, 2, 3, 4, 5, 6, 7, 8, 9, 10]\n",
    "Expected output: ('1', '2', '3', '4', '5', '6', '7', '8', '9', '10')"
   ]
  },
  {
   "cell_type": "code",
   "execution_count": 16,
   "id": "57140ee0-3ae1-4ad3-8060-3d225428d809",
   "metadata": {},
   "outputs": [],
   "source": [
    "stR=tuple(map(lambda x:str(x),l))"
   ]
  },
  {
   "cell_type": "code",
   "execution_count": 15,
   "id": "56f4f8fe-a349-4f0f-9478-ca573c9f964e",
   "metadata": {},
   "outputs": [
    {
     "name": "stdout",
     "output_type": "stream",
     "text": [
      "('1', '2', '3', '4', '5', '6', '7', '8', '9', '10')\n"
     ]
    }
   ],
   "source": [
    "print(stR)"
   ]
  },
  {
   "cell_type": "markdown",
   "id": "98a11c95-bf30-4eef-8e51-86c08ead5ecb",
   "metadata": {},
   "source": [
    "Q4.Write a python program using reduce function to compute the product of a list containing numbers\n",
    "from 1 to 25."
   ]
  },
  {
   "cell_type": "code",
   "execution_count": 28,
   "id": "8849a9ec-abec-41a3-9bab-ce3318d69e13",
   "metadata": {},
   "outputs": [],
   "source": [
    "l=list(range(1,26))"
   ]
  },
  {
   "cell_type": "code",
   "execution_count": 20,
   "id": "e9ec9cbd-a64f-462c-8414-be13952d0be9",
   "metadata": {},
   "outputs": [
    {
     "name": "stdout",
     "output_type": "stream",
     "text": [
      "range(1, 26)\n"
     ]
    }
   ],
   "source": [
    "for i in l:\n",
    "    print(i)"
   ]
  },
  {
   "cell_type": "code",
   "execution_count": 24,
   "id": "6344276e-3f37-4895-a039-bdab717492f4",
   "metadata": {},
   "outputs": [],
   "source": [
    "from functools import reduce"
   ]
  },
  {
   "cell_type": "code",
   "execution_count": 29,
   "id": "2caf3aad-d3aa-4c21-b735-55e927f71144",
   "metadata": {},
   "outputs": [
    {
     "data": {
      "text/plain": [
       "15511210043330985984000000"
      ]
     },
     "execution_count": 29,
     "metadata": {},
     "output_type": "execute_result"
    }
   ],
   "source": [
    "reduce(lambda x,y:x*y,l)"
   ]
  },
  {
   "cell_type": "markdown",
   "id": "fd115ddd-c912-4c0f-8754-bdfe46a5104c",
   "metadata": {},
   "source": [
    "Q5.Write a python program to filter the numbers in a given list that are divisible by 2 and 3 using the\n",
    "filter function.\n",
    "[2, 3, 6, 9, 27, 60, 90, 120, 55, 46]"
   ]
  },
  {
   "cell_type": "code",
   "execution_count": 38,
   "id": "7b9cf79c-bdaa-4192-858f-878a7395648f",
   "metadata": {},
   "outputs": [
    {
     "data": {
      "text/plain": [
       "[6, 60, 90, 120]"
      ]
     },
     "execution_count": 38,
     "metadata": {},
     "output_type": "execute_result"
    }
   ],
   "source": [
    "l = [2, 3, 6, 9, 27, 60, 90, 120, 55, 46]\n",
    "list(filter(lambda x:x%2==0 and x%3 == 0,l))"
   ]
  },
  {
   "cell_type": "markdown",
   "id": "5c91f9f3-a1a0-4c31-be23-1296a08efc71",
   "metadata": {},
   "source": [
    "Q6.Write a python program to find palindromes in the given list of strings using lambda and filter\n",
    "function.\n",
    "['python', 'php', 'aba', 'radar', 'level']"
   ]
  },
  {
   "cell_type": "code",
   "execution_count": 4,
   "id": "69715e6c-ba2f-43e5-a495-99611c7b8903",
   "metadata": {},
   "outputs": [],
   "source": [
    "s = ['python','php','aba','radar','level']"
   ]
  },
  {
   "cell_type": "code",
   "execution_count": 14,
   "id": "493e69c7-2880-47c5-acd0-a48eab7d251e",
   "metadata": {},
   "outputs": [],
   "source": [
    "s1=list(filter(lambda x:x==x[::-1],s))"
   ]
  },
  {
   "cell_type": "code",
   "execution_count": 15,
   "id": "e7418c63-16e8-4430-8f01-64d67d324779",
   "metadata": {},
   "outputs": [
    {
     "data": {
      "text/plain": [
       "['php', 'aba', 'radar', 'level']"
      ]
     },
     "execution_count": 15,
     "metadata": {},
     "output_type": "execute_result"
    }
   ],
   "source": [
    "s1"
   ]
  }
 ],
 "metadata": {
  "kernelspec": {
   "display_name": "Python 3 (ipykernel)",
   "language": "python",
   "name": "python3"
  },
  "language_info": {
   "codemirror_mode": {
    "name": "ipython",
    "version": 3
   },
   "file_extension": ".py",
   "mimetype": "text/x-python",
   "name": "python",
   "nbconvert_exporter": "python",
   "pygments_lexer": "ipython3",
   "version": "3.10.8"
  }
 },
 "nbformat": 4,
 "nbformat_minor": 5
}
