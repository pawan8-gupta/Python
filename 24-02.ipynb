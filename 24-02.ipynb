{
 "cells": [
  {
   "cell_type": "markdown",
   "id": "b0d2d49d-dad9-485a-80c1-455c25eeca2e",
   "metadata": {},
   "source": [
    "1.def keyword is used to create a function.\n",
    "\n",
    "##Function to create a list of odd number in range 1 to 25\n",
    "def odd():\n",
    "    l1=[]\n",
    "    for i in range(1,26):\n",
    "        if i%2!=0:\n",
    "            l1.append(i)\n",
    "    return l1\n",
    "   o/p: [1, 3, 5, 7, 9, 11, 13, 15, 17, 19, 21, 23, 25]"
   ]
  },
  {
   "cell_type": "markdown",
   "id": "468a00b7-1ad8-4df6-9b08-7ca7b237250c",
   "metadata": {},
   "source": [
    "2.*args is used to take any numbers of arguments in a function wherese as **kwargs is use to take any number of arguments in a key value pair\n",
    "def func1(*args):\n",
    "    print(args)\n",
    "    func1(1,2,3,4,5)\n",
    "o/p:(1, 2, 3, 4, 5)\n",
    "//\n",
    "def func2(**kargs):\n",
    "    print(kargs)\n",
    "    func2(a=\"pawan\",b=\"gupta\")\n",
    "o/p:{'a': 'pawan', 'b': 'gupta'}  "
   ]
  },
  {
   "cell_type": "markdown",
   "id": "a2c5f775-3092-4652-9f1a-012d51909434",
   "metadata": {},
   "source": [
    "3.In python an iterator is something which stores value sequentially so that during retrival it becomes easy to retrieve.\n",
    "The method which is used to initialize the  iterator object is iter().\n",
    "The method used for iteration is next().\n",
    "Eg:\n",
    "\tl=[2,4,6,8,10,12,14,16,18,20]\n",
    "iterator = iter(l)\n",
    "for i in range(5):\n",
    "  print(next(iterator))\n"
   ]
  },
  {
   "cell_type": "markdown",
   "id": "8960f279-e3ab-47ee-a4a8-c06fa83beea1",
   "metadata": {},
   "source": [
    "\n",
    "4.In python a generator function is that type of function which does not store the output rather what is does is it create the output and instantly return the output. The yield keyword is used to return the generated value of any variable. Example of generator function is range() function.\n",
    "def fib_n(n):\n",
    "     a,b=0,1\n",
    "     for i in range(n):\n",
    "        yield a\n",
    "        a,b = b,a+b"
   ]
  },
  {
   "cell_type": "markdown",
   "id": "cf899630-fb97-48e5-905c-44943468a1f5",
   "metadata": {},
   "source": [
    "5.def is_prime(n):\n",
    "    if n <= 1:\n",
    "        return False\n",
    "    if n <= 3:\n",
    "        return True\n",
    "    if n % 2 == 0 or n % 3 == 0:\n",
    "        return False\n",
    "    i = 5\n",
    "    while i * i <= n:\n",
    "        if n % i == 0 or n % (i + 2) == 0:\n",
    "            return False\n",
    "        i += 6\n",
    "    return True\n",
    "\n",
    "def prime_generator():\n",
    "    num = 2\n",
    "    while num < 1000:\n",
    "        if is_prime(num):\n",
    "            yield num\n",
    "        num += 1\n",
    "\n",
    "for i in range(20):\n",
    "    print(next(prime_generator()))\n"
   ]
  },
  {
   "cell_type": "code",
   "execution_count": null,
   "id": "de567572-10c4-491d-b34e-581fce1ff09f",
   "metadata": {},
   "outputs": [],
   "source": []
  }
 ],
 "metadata": {
  "kernelspec": {
   "display_name": "Python 3 (ipykernel)",
   "language": "python",
   "name": "python3"
  },
  "language_info": {
   "codemirror_mode": {
    "name": "ipython",
    "version": 3
   },
   "file_extension": ".py",
   "mimetype": "text/x-python",
   "name": "python",
   "nbconvert_exporter": "python",
   "pygments_lexer": "ipython3",
   "version": "3.10.8"
  }
 },
 "nbformat": 4,
 "nbformat_minor": 5
}
